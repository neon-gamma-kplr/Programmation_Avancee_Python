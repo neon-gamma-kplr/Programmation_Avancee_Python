{
 "cells": [
  {
   "cell_type": "markdown",
   "id": "018f51b4",
   "metadata": {},
   "source": [
    "# Test Exercises"
   ]
  },
  {
   "cell_type": "markdown",
   "id": "d77460b0",
   "metadata": {},
   "source": [
    "### Exercise 1\n",
    "\n",
    "Create a `class` for a book called `Book`.\n",
    "\n",
    "The attributes should be.\n",
    "- `title`\n",
    "- `author`\n",
    "- `pages`\n",
    "\n",
    "Try it out."
   ]
  },
  {
   "cell_type": "code",
   "execution_count": 2,
   "id": "f33f470f",
   "metadata": {},
   "outputs": [],
   "source": [
    "class Book:\n",
    "    \n",
    "    def __init__(self, titre, auteur, pages):\n",
    "        self.title = titre\n",
    "        self.author = auteur\n",
    "        self.pages = pages"
   ]
  },
  {
   "cell_type": "code",
   "execution_count": 6,
   "id": "862e0298",
   "metadata": {},
   "outputs": [],
   "source": [
    "livre = Book(\"One Piece\",\"Oda\",15000)"
   ]
  },
  {
   "cell_type": "code",
   "execution_count": 7,
   "id": "3ef86d2e",
   "metadata": {},
   "outputs": [
    {
     "name": "stdout",
     "output_type": "stream",
     "text": [
      "Oda One Piece 15000\n"
     ]
    }
   ],
   "source": [
    "print(livre.author, livre.title, livre.pages)"
   ]
  },
  {
   "cell_type": "markdown",
   "id": "9813e500",
   "metadata": {},
   "source": [
    "### Exercise 2\n",
    "\n",
    "Continue with the `Book` class.\n",
    "\n",
    "- Add get and set methods for the title.\n",
    "- Add a `__str__` method for a string representation of the class.\n",
    "\n",
    "Try it out."
   ]
  },
  {
   "cell_type": "code",
   "execution_count": null,
   "id": "18f7a816",
   "metadata": {},
   "outputs": [],
   "source": [
    "class Book:\n",
    "    \n",
    "    def __init__(self, titre, auteur, nb_pages):\n",
    "        self.title = titre\n",
    "        self.author = auteur\n",
    "        self.pages = nb_pages\n",
    "\n",
    "    def get_titre(self):\n",
    "        return self.title\n",
    "    \n",
    "    def set_titre(self, titre):\n",
    "        self.title = titre\n",
    "\n",
    "    def get_auteur(self):\n",
    "        return self.author\n",
    "    \n",
    "    def set_auteur(self, auteur):\n",
    "        self.author = auteur\n",
    "\n",
    "    def get_nb_pages(self):\n",
    "        return self.pages\n",
    "    \n",
    "    def set_nb_pages(self, nb_pages):\n",
    "        self.pages = nb_pages"
   ]
  },
  {
   "cell_type": "code",
   "execution_count": null,
   "id": "02e2bc00",
   "metadata": {},
   "outputs": [],
   "source": []
  },
  {
   "cell_type": "code",
   "execution_count": null,
   "id": "dd0c77e7",
   "metadata": {},
   "outputs": [],
   "source": []
  },
  {
   "cell_type": "markdown",
   "id": "57e274d1",
   "metadata": {},
   "source": [
    "### Exercise 3 (Challenging)\n",
    "\n",
    "Continue with the `Book` class\n",
    "\n",
    "- Add a `__lt__` method that compares to objects.\n",
    "\n",
    "Create a list of books, sort it, and see it works."
   ]
  },
  {
   "cell_type": "code",
   "execution_count": null,
   "id": "08ceca17",
   "metadata": {},
   "outputs": [],
   "source": []
  },
  {
   "cell_type": "code",
   "execution_count": null,
   "id": "c9f80062",
   "metadata": {},
   "outputs": [],
   "source": []
  },
  {
   "cell_type": "code",
   "execution_count": null,
   "id": "44f29f12",
   "metadata": {},
   "outputs": [],
   "source": []
  }
 ],
 "metadata": {
  "kernelspec": {
   "display_name": "Python 3 (ipykernel)",
   "language": "python",
   "name": "python3"
  },
  "language_info": {
   "codemirror_mode": {
    "name": "ipython",
    "version": 3
   },
   "file_extension": ".py",
   "mimetype": "text/x-python",
   "name": "python",
   "nbconvert_exporter": "python",
   "pygments_lexer": "ipython3",
   "version": "3.10.4"
  }
 },
 "nbformat": 4,
 "nbformat_minor": 5
}
